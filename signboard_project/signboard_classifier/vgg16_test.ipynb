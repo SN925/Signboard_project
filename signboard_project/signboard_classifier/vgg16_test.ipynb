{
 "cells": [
  {
   "cell_type": "code",
   "execution_count": 1,
   "metadata": {},
   "outputs": [],
   "source": [
    "%matplotlib inline\n",
    "from keras.models import model_from_json  \n",
    "import matplotlib.pyplot as plt\n",
    "import numpy as np\n",
    "import os, random\n",
    "import cv2 \n",
    "from PIL import Image \n",
    "from keras.preprocessing import image  \n",
    "from keras.preprocessing.image import img_to_array, load_img \n",
    "from keras.preprocessing.image import ImageDataGenerator\n",
    "from keras.optimizers import SGD\n",
    "from keras.applications.vgg16 import preprocess_input, decode_predictions\n",
    "import keras.backend as K\n",
    "import glob   \n",
    "import shutil\n",
    "import pandas as pd\n",
    "from matplotlib.backends.backend_pdf import PdfPages \n",
    "from sklearn.metrics import accuracy_score\n",
    "from sklearn.metrics import precision_score\n",
    "from sklearn.metrics import recall_score\n",
    "from sklearn.metrics import f1_score"
   ]
  },
  {
   "cell_type": "code",
   "execution_count": 5,
   "metadata": {
    "collapsed": true
   },
   "outputs": [
    {
     "name": "stdout",
     "output_type": "stream",
     "text": [
      "osaka_A2701_A270302_27000981\n",
      "osaka_A2701_A270302_27001863\n",
      "osaka_A2701_A270302_27001881\n",
      "osaka_A2701_A270302_27004531\n",
      "osaka_A2701_A270302_27014025\n",
      "osaka_A2701_A270302_27014228\n",
      "osaka_A2701_A270302_27049133\n",
      "osaka_A2701_A270302_27062386\n",
      "osaka_A2701_A270302_27083645\n",
      "osaka_A2701_A270302_27089141\n",
      "osaka_A2701_A270302_27093756\n",
      "osaka_A2701_A270302_27097422\n",
      "osaka_A2701_A270302_27097472\n",
      "osaka_A2701_A270302_27098747\n",
      "osaka_A2701_A270302_27107382\n",
      "osaka_A2701_A270302_27117733\n",
      "osaka_A2701_A270302_27124191\n"
     ]
    }
   ],
   "source": [
    "#パラメータ設定\n",
    "batch_size = 16   \n",
    "file_name = \"oaska_all_img\"   \n",
    "label = sorted(glob.glob(\"oaska_all_img/test\")) \n",
    "test_dir = \"oaska_all_img/test\"   \n",
    "train_dir = \"oaska_all_img/train\"   \n",
    "\n",
    "for i in range(len(label)):\n",
    "    label[i]=label[i].split(\"/\")[-1]  \n",
    "    print(label[i])    "
   ]
  },
  {
   "cell_type": "code",
   "execution_count": 6,
   "metadata": {},
   "outputs": [],
   "source": [
    "#モデルと重みの読み込み\n",
    "json_string = open(file_name + \".json\").read()   \n",
    "model = model_from_json(json_string)\n",
    "model.load_weights(file_name + \".h5\") "
   ]
  },
  {
   "cell_type": "code",
   "execution_count": 7,
   "metadata": {},
   "outputs": [],
   "source": [
    "def mean_pred(y_true, y_pred):  \n",
    "    return K.mean(y_pred)"
   ]
  },
  {
   "cell_type": "code",
   "execution_count": 8,
   "metadata": {
    "collapsed": true
   },
   "outputs": [
    {
     "name": "stdout",
     "output_type": "stream",
     "text": [
      "WARNING:tensorflow:From /home/nakamichi/.local/lib/python3.7/site-packages/keras/optimizers.py:757: The name tf.train.Optimizer is deprecated. Please use tf.compat.v1.train.Optimizer instead.\n",
      "\n",
      "WARNING:tensorflow:From /home/nakamichi/.local/lib/python3.7/site-packages/keras/backend/tensorflow_backend.py:3008: The name tf.log is deprecated. Please use tf.math.log instead.\n",
      "\n"
     ]
    }
   ],
   "source": [
    "model.compile(optimizer = SGD(lr = 0.0001, momentum = 0.9),  \n",
    "             loss = \"categorical_crossentropy\",\n",
    "              metrics = [\"accuracy\", mean_pred] \n",
    "             )"
   ]
  },
  {
   "cell_type": "code",
   "execution_count": 9,
   "metadata": {},
   "outputs": [],
   "source": [
    "#generation\n",
    "test_datagen = ImageDataGenerator(rescale = 1.0/255)"
   ]
  },
  {
   "cell_type": "code",
   "execution_count": 10,
   "metadata": {
    "collapsed": true
   },
   "outputs": [
    {
     "name": "stdout",
     "output_type": "stream",
     "text": [
      "Found 200 images belonging to 17 classes.\n"
     ]
    }
   ],
   "source": [
    "test_generator = test_datagen.flow_from_directory(\n",
    "    test_dir,\n",
    "    target_size = (224, 224),\n",
    "    batch_size = batch_size,\n",
    "    class_mode = \"categorical\",\n",
    "    shuffle = True\n",
    ")"
   ]
  },
  {
   "cell_type": "code",
   "execution_count": 11,
   "metadata": {},
   "outputs": [],
   "source": [
    "#評価  \n",
    "score = model.evaluate_generator(test_generator, steps=48)"
   ]
  },
  {
   "cell_type": "code",
   "execution_count": 12,
   "metadata": {
    "collapsed": true
   },
   "outputs": [
    {
     "data": {
      "text/plain": [
       "[0.21276931400581073, 0.9233870967741935, 0.058823528629477304]"
      ]
     },
     "execution_count": 12,
     "metadata": {},
     "output_type": "execute_result"
    }
   ],
   "source": [
    "score   "
   ]
  },
  {
   "cell_type": "code",
   "execution_count": 13,
   "metadata": {
    "collapsed": true
   },
   "outputs": [
    {
     "name": "stdout",
     "output_type": "stream",
     "text": [
      "test_loss: 0.21276931400581073\n",
      "test_acc: 0.9233870967741935\n"
     ]
    }
   ],
   "source": [
    "print(\"test_loss:\", score[0])\n",
    "print(\"test_acc:\", score[1])    "
   ]
  },
  {
   "cell_type": "code",
   "execution_count": 20,
   "metadata": {},
   "outputs": [],
   "source": [
    "filenames = []   \n",
    "y_true = []   \n",
    "y_pred = [] \n",
    "\n",
    "for l in label:  \n",
    "    file=glob.glob(test_dir+ \"/\" + l + \"/*\")  \n",
    "    for i in range(len(file)):\n",
    "        y_true.append(label.index(l))    \n",
    "    filenames.extend(file)   \n",
    "    \n",
    "for file in filenames:   \n",
    "    temp_img = load_img(file, target_size=(224, 224))  \n",
    "    #正規化\n",
    "    temp_img_array = img_to_array(temp_img)   \n",
    "    temp_img_array = temp_img_array.astype(\"float32\")/255.0   \n",
    "    temp_img_array = temp_img_array.reshape((1, 224, 224, 3))  \n",
    "    #予測\n",
    "    img_pred = model.predict(temp_img_array)\n",
    "    y_pred.append(np.argmax(img_pred))"
   ]
  },
  {
   "cell_type": "code",
   "execution_count": 14,
   "metadata": {},
   "outputs": [],
   "source": [
    "from sklearn.metrics import accuracy_score\n",
    "from sklearn.metrics import precision_score\n",
    "from sklearn.metrics import recall_score\n",
    "from sklearn.metrics import f1_score"
   ]
  },
  {
   "cell_type": "code",
   "execution_count": 19,
   "metadata": {
    "collapsed": true
   },
   "outputs": [
    {
     "name": "stdout",
     "output_type": "stream",
     "text": [
      "0.925\n"
     ]
    }
   ],
   "source": [
    "acc = accuracy_score(y_true, y_pred)    #正解率\n",
    "print(acc)"
   ]
  },
  {
   "cell_type": "code",
   "execution_count": 13,
   "metadata": {
    "collapsed": true
   },
   "outputs": [
    {
     "name": "stdout",
     "output_type": "stream",
     "text": [
      "0.8739418819914176\n"
     ]
    }
   ],
   "source": [
    "pre = precision_score(y_true, y_pred, average=\"macro\")     #適合率\n",
    "print(pre)  "
   ]
  },
  {
   "cell_type": "code",
   "execution_count": 14,
   "metadata": {
    "collapsed": true
   },
   "outputs": [
    {
     "name": "stdout",
     "output_type": "stream",
     "text": [
      "0.8914799253034547\n"
     ]
    }
   ],
   "source": [
    "rec = recall_score(y_true, y_pred, average=\"macro\")    #再現率\n",
    "print(rec)    "
   ]
  },
  {
   "cell_type": "code",
   "execution_count": 18,
   "metadata": {
    "collapsed": true
   },
   "outputs": [
    {
     "ename": "SyntaxError",
     "evalue": "invalid syntax (<ipython-input-18-a5b1d360585e>, line 1)",
     "output_type": "error",
     "traceback": [
      "\u001b[0;36m  File \u001b[0;32m\"<ipython-input-18-a5b1d360585e>\"\u001b[0;36m, line \u001b[0;32m1\u001b[0m\n\u001b[0;31m    (y_true, y_pred, average=\"macro\")     #F1値を出力\u001b[0m\n\u001b[0m                            ^\u001b[0m\n\u001b[0;31mSyntaxError\u001b[0m\u001b[0;31m:\u001b[0m invalid syntax\n"
     ]
    }
   ],
   "source": [
    "f1 = f1_score(y_true, y_pred, average=\"macro\")   #F1値\n",
    "print(f1)    "
   ]
  },
  {
   "cell_type": "code",
   "execution_count": 16,
   "metadata": {
    "collapsed": true
   },
   "outputs": [
    {
     "data": {
      "text/plain": [
       "0.8826237904822017"
      ]
     },
     "execution_count": 16,
     "metadata": {},
     "output_type": "execute_result"
    }
   ],
   "source": [
    "(2*(rec*pre))/(rec+pre)    #F値"
   ]
  }
 ],
 "metadata": {
  "kernelspec": {
   "display_name": "Python 3",
   "language": "python",
   "name": "python3"
  },
  "language_info": {
   "codemirror_mode": {
    "name": "ipython",
    "version": 3
   },
   "file_extension": ".py",
   "mimetype": "text/x-python",
   "name": "python",
   "nbconvert_exporter": "python",
   "pygments_lexer": "ipython3",
   "version": "3.7.9"
  }
 },
 "nbformat": 4,
 "nbformat_minor": 2
}
